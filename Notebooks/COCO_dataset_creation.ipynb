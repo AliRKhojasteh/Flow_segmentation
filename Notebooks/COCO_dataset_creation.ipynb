{
 "cells": [
  {
   "cell_type": "markdown",
   "metadata": {},
   "source": [
    "### Create a Training and Validation Dataset\n",
    "\n",
    "This script, authored by AliRKhojasteh, converts image and mask files into the **COCO dataset format**. It randomly separates frames into **training** and **validation sets**, processes each frame to extract contours from masks, and stores image and annotation data in the COCO format. \n",
    "\n",
    "The **total number of frames** is equal to the sum of the frames for training and frames for evaluation.\n",
    "\n",
    "The resulting **COCO-format datasets** are saved as JSON files.\n",
    "\n",
    "**Author:** AliRKhojasteh  \n",
    "**License:** Apache 2.0"
   ]
  },
  {
   "cell_type": "code",
   "execution_count": 10,
   "metadata": {},
   "outputs": [
    {
     "name": "stdout",
     "output_type": "stream",
     "text": [
      "i:\\My Drive\\Flow_segmentation\\Demo\\Train_data\n",
      "\n",
      "\n",
      "Total frames: 10, using 30.0 % for evaluation.\n"
     ]
    }
   ],
   "source": [
    "import os\n",
    "\n",
    "current_dir = os.getcwd()\n",
    "parent_dir = os.path.dirname(current_dir)\n",
    "\n",
    "image_dir = os.path.join(parent_dir, 'Demo\\Train_data')\n",
    "mask_dir = os.path.join(parent_dir, 'Demo\\Train_data')\n",
    "print(image_dir)\n",
    "\n",
    "Total_frames = 10\n",
    "Evaluation_frames = 3 \n",
    "\n",
    "evaluation_percentage = (Evaluation_frames / Total_frames) * 100\n",
    "print(f\"\\n\\nTotal frames: {Total_frames}, using {evaluation_percentage} % for evaluation.\")\n"
   ]
  },
  {
   "cell_type": "code",
   "execution_count": 11,
   "metadata": {},
   "outputs": [],
   "source": [
    "import cv2\n",
    "import json\n",
    "import random\n",
    "import numpy as np\n",
    "from PIL import Image\n",
    "from pycocotools import mask as maskUtils\n",
    "\n",
    "\n",
    "coco_format_train = {\"images\": [], \"annotations\": [], \"categories\": [{\"id\": 1, \"name\": \"jet\"}]}\n",
    "coco_format_val = {\"images\": [], \"annotations\": [], \"categories\": [{\"id\": 1, \"name\": \"jet\"}]}\n",
    "\n",
    "all_frames = list(range(1, Total_frames))\n",
    "# Evaluation frames\n",
    "val_frames = random.sample(all_frames, Evaluation_frames)\n",
    "# Training frames\n",
    "train_frames = [frame for frame in all_frames if frame not in val_frames]\n",
    "\n",
    "def process_frame(i, coco_format):\n",
    "    \n",
    "    image_filename = f\"Jet_image_{i}.png\"\n",
    "    mask_filename = f\"Jet_mask_{i}.png\"\n",
    "\n",
    "    image = Image.open(os.path.join(image_dir, image_filename))\n",
    "    mask = cv2.imread(os.path.join(mask_dir, mask_filename), 0)\n",
    "\n",
    "    contours, _ = cv2.findContours(mask, cv2.RETR_TREE, cv2.CHAIN_APPROX_SIMPLE)\n",
    "\n",
    "    coco_format[\"images\"].append({\n",
    "        \"file_name\": image_filename,\n",
    "        \"height\": image.height,\n",
    "        \"width\": image.width,\n",
    "        \"id\": i\n",
    "    })\n",
    "\n",
    "    for j, contour in enumerate(contours):\n",
    "\n",
    "        # Get the bounding box coordinates\n",
    "        x, y, w, h = cv2.boundingRect(contour)\n",
    "        mask_contour = np.zeros((image.height, image.width), dtype=np.uint8)\n",
    "        cv2.drawContours(mask_contour, [contour], -1, (1), thickness=cv2.FILLED)\n",
    "        mask_rle = maskUtils.encode(np.asfortranarray(mask_contour))\n",
    "        mask_rle_list = mask_rle['counts'].decode('utf-8')\n",
    "\n",
    "        # Add annotation information \n",
    "        coco_format[\"annotations\"].append({\n",
    "            \"bbox\": [x, y, w, h],\n",
    "            \"image_id\": i,\n",
    "            \"category_id\": 1,\n",
    "            \"id\": i * 1000 + j,  # Unique ID for each annotation\n",
    "            \"segmentation\": {\"counts\": mask_rle_list, \"size\": mask_rle['size']}  # Add the RLE-encoded mask\n",
    "        })\n",
    "\n",
    "# Process the training frames\n",
    "for i in train_frames:\n",
    "    process_frame(i, coco_format_train)\n",
    "\n",
    "# Process the validation frames\n",
    "for i in val_frames:\n",
    "    process_frame(i, coco_format_val)\n",
    "\n",
    "\n",
    "# Save the COCO-format \n",
    "annotations_train_path = os.path.join(parent_dir, \"Demo/Train_data/annotations_train.json\")\n",
    "annotations_val_path = os.path.join(parent_dir, \"Demo/Train_data/annotations_val.json\")\n",
    "\n",
    "with open(annotations_train_path, \"w\") as f:\n",
    "    json.dump(coco_format_train, f)\n",
    "\n",
    "with open(annotations_val_path, \"w\") as f:\n",
    "    json.dump(coco_format_val, f)"
   ]
  },
  {
   "cell_type": "code",
   "execution_count": null,
   "metadata": {},
   "outputs": [],
   "source": []
  }
 ],
 "metadata": {
  "kernelspec": {
   "display_name": "Python (opendrift_env)",
   "language": "python",
   "name": "opendrift_env"
  },
  "language_info": {
   "codemirror_mode": {
    "name": "ipython",
    "version": 3
   },
   "file_extension": ".py",
   "mimetype": "text/x-python",
   "name": "python",
   "nbconvert_exporter": "python",
   "pygments_lexer": "ipython3",
   "version": "3.8.18"
  }
 },
 "nbformat": 4,
 "nbformat_minor": 2
}
